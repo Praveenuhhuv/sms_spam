{
 "cells": [
  {
   "cell_type": "code",
   "execution_count": 1,
   "id": "d4d68c2a",
   "metadata": {},
   "outputs": [],
   "source": [
    "import numpy as np\n",
    "import pandas as pd\n",
    "import matplotlib.pyplot as plt\n",
    "import seaborn as sns\n",
    "import nltk\n",
    "import re"
   ]
  },
  {
   "cell_type": "code",
   "execution_count": 2,
   "id": "98690484",
   "metadata": {},
   "outputs": [
    {
     "data": {
      "text/html": [
       "<div>\n",
       "<style scoped>\n",
       "    .dataframe tbody tr th:only-of-type {\n",
       "        vertical-align: middle;\n",
       "    }\n",
       "\n",
       "    .dataframe tbody tr th {\n",
       "        vertical-align: top;\n",
       "    }\n",
       "\n",
       "    .dataframe thead th {\n",
       "        text-align: right;\n",
       "    }\n",
       "</style>\n",
       "<table border=\"1\" class=\"dataframe\">\n",
       "  <thead>\n",
       "    <tr style=\"text-align: right;\">\n",
       "      <th></th>\n",
       "      <th>S. No.</th>\n",
       "      <th>Message_body</th>\n",
       "      <th>Label</th>\n",
       "    </tr>\n",
       "  </thead>\n",
       "  <tbody>\n",
       "    <tr>\n",
       "      <th>0</th>\n",
       "      <td>1</td>\n",
       "      <td>Rofl. Its true to its name</td>\n",
       "      <td>Non-Spam</td>\n",
       "    </tr>\n",
       "    <tr>\n",
       "      <th>1</th>\n",
       "      <td>2</td>\n",
       "      <td>The guy did some bitching but I acted like i'd...</td>\n",
       "      <td>Non-Spam</td>\n",
       "    </tr>\n",
       "    <tr>\n",
       "      <th>2</th>\n",
       "      <td>3</td>\n",
       "      <td>Pity, * was in mood for that. So...any other s...</td>\n",
       "      <td>Non-Spam</td>\n",
       "    </tr>\n",
       "    <tr>\n",
       "      <th>3</th>\n",
       "      <td>4</td>\n",
       "      <td>Will ü b going to esplanade fr home?</td>\n",
       "      <td>Non-Spam</td>\n",
       "    </tr>\n",
       "    <tr>\n",
       "      <th>4</th>\n",
       "      <td>5</td>\n",
       "      <td>This is the 2nd time we have tried 2 contact u...</td>\n",
       "      <td>Spam</td>\n",
       "    </tr>\n",
       "    <tr>\n",
       "      <th>...</th>\n",
       "      <td>...</td>\n",
       "      <td>...</td>\n",
       "      <td>...</td>\n",
       "    </tr>\n",
       "    <tr>\n",
       "      <th>952</th>\n",
       "      <td>953</td>\n",
       "      <td>hows my favourite person today? r u workin har...</td>\n",
       "      <td>Non-Spam</td>\n",
       "    </tr>\n",
       "    <tr>\n",
       "      <th>953</th>\n",
       "      <td>954</td>\n",
       "      <td>How much you got for cleaning</td>\n",
       "      <td>Non-Spam</td>\n",
       "    </tr>\n",
       "    <tr>\n",
       "      <th>954</th>\n",
       "      <td>955</td>\n",
       "      <td>Sorry da. I gone mad so many pending works wha...</td>\n",
       "      <td>Non-Spam</td>\n",
       "    </tr>\n",
       "    <tr>\n",
       "      <th>955</th>\n",
       "      <td>956</td>\n",
       "      <td>Wat time ü finish?</td>\n",
       "      <td>Non-Spam</td>\n",
       "    </tr>\n",
       "    <tr>\n",
       "      <th>956</th>\n",
       "      <td>957</td>\n",
       "      <td>Just glad to be talking to you.</td>\n",
       "      <td>Non-Spam</td>\n",
       "    </tr>\n",
       "  </tbody>\n",
       "</table>\n",
       "<p>957 rows × 3 columns</p>\n",
       "</div>"
      ],
      "text/plain": [
       "     S. No.                                       Message_body     Label\n",
       "0         1                         Rofl. Its true to its name  Non-Spam\n",
       "1         2  The guy did some bitching but I acted like i'd...  Non-Spam\n",
       "2         3  Pity, * was in mood for that. So...any other s...  Non-Spam\n",
       "3         4               Will ü b going to esplanade fr home?  Non-Spam\n",
       "4         5  This is the 2nd time we have tried 2 contact u...      Spam\n",
       "..      ...                                                ...       ...\n",
       "952     953  hows my favourite person today? r u workin har...  Non-Spam\n",
       "953     954                      How much you got for cleaning  Non-Spam\n",
       "954     955  Sorry da. I gone mad so many pending works wha...  Non-Spam\n",
       "955     956                                 Wat time ü finish?  Non-Spam\n",
       "956     957                    Just glad to be talking to you.  Non-Spam\n",
       "\n",
       "[957 rows x 3 columns]"
      ]
     },
     "execution_count": 2,
     "metadata": {},
     "output_type": "execute_result"
    }
   ],
   "source": [
    "df1=pd.read_csv('SMS_train.csv',encoding='ISO_8859-1')\n",
    "df1"
   ]
  },
  {
   "cell_type": "code",
   "execution_count": 3,
   "id": "c329ef43",
   "metadata": {},
   "outputs": [
    {
     "data": {
      "text/html": [
       "<div>\n",
       "<style scoped>\n",
       "    .dataframe tbody tr th:only-of-type {\n",
       "        vertical-align: middle;\n",
       "    }\n",
       "\n",
       "    .dataframe tbody tr th {\n",
       "        vertical-align: top;\n",
       "    }\n",
       "\n",
       "    .dataframe thead th {\n",
       "        text-align: right;\n",
       "    }\n",
       "</style>\n",
       "<table border=\"1\" class=\"dataframe\">\n",
       "  <thead>\n",
       "    <tr style=\"text-align: right;\">\n",
       "      <th></th>\n",
       "      <th>S. No.</th>\n",
       "      <th>Message_body</th>\n",
       "      <th>Label</th>\n",
       "    </tr>\n",
       "  </thead>\n",
       "  <tbody>\n",
       "    <tr>\n",
       "      <th>0</th>\n",
       "      <td>1</td>\n",
       "      <td>UpgrdCentre Orange customer, you may now claim...</td>\n",
       "      <td>Spam</td>\n",
       "    </tr>\n",
       "    <tr>\n",
       "      <th>1</th>\n",
       "      <td>2</td>\n",
       "      <td>Loan for any purpose £500 - £75,000. Homeowner...</td>\n",
       "      <td>Spam</td>\n",
       "    </tr>\n",
       "    <tr>\n",
       "      <th>2</th>\n",
       "      <td>3</td>\n",
       "      <td>Congrats! Nokia 3650 video camera phone is you...</td>\n",
       "      <td>Spam</td>\n",
       "    </tr>\n",
       "    <tr>\n",
       "      <th>3</th>\n",
       "      <td>4</td>\n",
       "      <td>URGENT! Your Mobile number has been awarded wi...</td>\n",
       "      <td>Spam</td>\n",
       "    </tr>\n",
       "    <tr>\n",
       "      <th>4</th>\n",
       "      <td>5</td>\n",
       "      <td>Someone has contacted our dating service and e...</td>\n",
       "      <td>Spam</td>\n",
       "    </tr>\n",
       "    <tr>\n",
       "      <th>...</th>\n",
       "      <td>...</td>\n",
       "      <td>...</td>\n",
       "      <td>...</td>\n",
       "    </tr>\n",
       "    <tr>\n",
       "      <th>120</th>\n",
       "      <td>121</td>\n",
       "      <td>7 wonders in My WORLD 7th You 6th Ur style 5th...</td>\n",
       "      <td>Non-Spam</td>\n",
       "    </tr>\n",
       "    <tr>\n",
       "      <th>121</th>\n",
       "      <td>122</td>\n",
       "      <td>Try to do something dear. You read something f...</td>\n",
       "      <td>Non-Spam</td>\n",
       "    </tr>\n",
       "    <tr>\n",
       "      <th>122</th>\n",
       "      <td>123</td>\n",
       "      <td>Sun ah... Thk mayb can if dun have anythin on....</td>\n",
       "      <td>Non-Spam</td>\n",
       "    </tr>\n",
       "    <tr>\n",
       "      <th>123</th>\n",
       "      <td>124</td>\n",
       "      <td>SYMPTOMS when U are in love: \"1.U like listeni...</td>\n",
       "      <td>Non-Spam</td>\n",
       "    </tr>\n",
       "    <tr>\n",
       "      <th>124</th>\n",
       "      <td>125</td>\n",
       "      <td>Great. Have a safe trip. Dont panic surrender ...</td>\n",
       "      <td>Non-Spam</td>\n",
       "    </tr>\n",
       "  </tbody>\n",
       "</table>\n",
       "<p>125 rows × 3 columns</p>\n",
       "</div>"
      ],
      "text/plain": [
       "     S. No.                                       Message_body     Label\n",
       "0         1  UpgrdCentre Orange customer, you may now claim...      Spam\n",
       "1         2  Loan for any purpose £500 - £75,000. Homeowner...      Spam\n",
       "2         3  Congrats! Nokia 3650 video camera phone is you...      Spam\n",
       "3         4  URGENT! Your Mobile number has been awarded wi...      Spam\n",
       "4         5  Someone has contacted our dating service and e...      Spam\n",
       "..      ...                                                ...       ...\n",
       "120     121  7 wonders in My WORLD 7th You 6th Ur style 5th...  Non-Spam\n",
       "121     122  Try to do something dear. You read something f...  Non-Spam\n",
       "122     123  Sun ah... Thk mayb can if dun have anythin on....  Non-Spam\n",
       "123     124  SYMPTOMS when U are in love: \"1.U like listeni...  Non-Spam\n",
       "124     125  Great. Have a safe trip. Dont panic surrender ...  Non-Spam\n",
       "\n",
       "[125 rows x 3 columns]"
      ]
     },
     "execution_count": 3,
     "metadata": {},
     "output_type": "execute_result"
    }
   ],
   "source": [
    "df2=pd.read_csv('SMS_test.csv',encoding='ISO_8859-1')\n",
    "df2"
   ]
  },
  {
   "cell_type": "code",
   "execution_count": 4,
   "id": "7f682a66",
   "metadata": {},
   "outputs": [
    {
     "data": {
      "text/html": [
       "<div>\n",
       "<style scoped>\n",
       "    .dataframe tbody tr th:only-of-type {\n",
       "        vertical-align: middle;\n",
       "    }\n",
       "\n",
       "    .dataframe tbody tr th {\n",
       "        vertical-align: top;\n",
       "    }\n",
       "\n",
       "    .dataframe thead th {\n",
       "        text-align: right;\n",
       "    }\n",
       "</style>\n",
       "<table border=\"1\" class=\"dataframe\">\n",
       "  <thead>\n",
       "    <tr style=\"text-align: right;\">\n",
       "      <th></th>\n",
       "      <th>S. No.</th>\n",
       "      <th>Message_body</th>\n",
       "      <th>Label</th>\n",
       "    </tr>\n",
       "  </thead>\n",
       "  <tbody>\n",
       "    <tr>\n",
       "      <th>0</th>\n",
       "      <td>1</td>\n",
       "      <td>Rofl. Its true to its name</td>\n",
       "      <td>Non-Spam</td>\n",
       "    </tr>\n",
       "    <tr>\n",
       "      <th>1</th>\n",
       "      <td>2</td>\n",
       "      <td>The guy did some bitching but I acted like i'd...</td>\n",
       "      <td>Non-Spam</td>\n",
       "    </tr>\n",
       "    <tr>\n",
       "      <th>2</th>\n",
       "      <td>3</td>\n",
       "      <td>Pity, * was in mood for that. So...any other s...</td>\n",
       "      <td>Non-Spam</td>\n",
       "    </tr>\n",
       "    <tr>\n",
       "      <th>3</th>\n",
       "      <td>4</td>\n",
       "      <td>Will ü b going to esplanade fr home?</td>\n",
       "      <td>Non-Spam</td>\n",
       "    </tr>\n",
       "    <tr>\n",
       "      <th>4</th>\n",
       "      <td>5</td>\n",
       "      <td>This is the 2nd time we have tried 2 contact u...</td>\n",
       "      <td>Spam</td>\n",
       "    </tr>\n",
       "    <tr>\n",
       "      <th>...</th>\n",
       "      <td>...</td>\n",
       "      <td>...</td>\n",
       "      <td>...</td>\n",
       "    </tr>\n",
       "    <tr>\n",
       "      <th>120</th>\n",
       "      <td>121</td>\n",
       "      <td>7 wonders in My WORLD 7th You 6th Ur style 5th...</td>\n",
       "      <td>Non-Spam</td>\n",
       "    </tr>\n",
       "    <tr>\n",
       "      <th>121</th>\n",
       "      <td>122</td>\n",
       "      <td>Try to do something dear. You read something f...</td>\n",
       "      <td>Non-Spam</td>\n",
       "    </tr>\n",
       "    <tr>\n",
       "      <th>122</th>\n",
       "      <td>123</td>\n",
       "      <td>Sun ah... Thk mayb can if dun have anythin on....</td>\n",
       "      <td>Non-Spam</td>\n",
       "    </tr>\n",
       "    <tr>\n",
       "      <th>123</th>\n",
       "      <td>124</td>\n",
       "      <td>SYMPTOMS when U are in love: \"1.U like listeni...</td>\n",
       "      <td>Non-Spam</td>\n",
       "    </tr>\n",
       "    <tr>\n",
       "      <th>124</th>\n",
       "      <td>125</td>\n",
       "      <td>Great. Have a safe trip. Dont panic surrender ...</td>\n",
       "      <td>Non-Spam</td>\n",
       "    </tr>\n",
       "  </tbody>\n",
       "</table>\n",
       "<p>1082 rows × 3 columns</p>\n",
       "</div>"
      ],
      "text/plain": [
       "     S. No.                                       Message_body     Label\n",
       "0         1                         Rofl. Its true to its name  Non-Spam\n",
       "1         2  The guy did some bitching but I acted like i'd...  Non-Spam\n",
       "2         3  Pity, * was in mood for that. So...any other s...  Non-Spam\n",
       "3         4               Will ü b going to esplanade fr home?  Non-Spam\n",
       "4         5  This is the 2nd time we have tried 2 contact u...      Spam\n",
       "..      ...                                                ...       ...\n",
       "120     121  7 wonders in My WORLD 7th You 6th Ur style 5th...  Non-Spam\n",
       "121     122  Try to do something dear. You read something f...  Non-Spam\n",
       "122     123  Sun ah... Thk mayb can if dun have anythin on....  Non-Spam\n",
       "123     124  SYMPTOMS when U are in love: \"1.U like listeni...  Non-Spam\n",
       "124     125  Great. Have a safe trip. Dont panic surrender ...  Non-Spam\n",
       "\n",
       "[1082 rows x 3 columns]"
      ]
     },
     "execution_count": 4,
     "metadata": {},
     "output_type": "execute_result"
    }
   ],
   "source": [
    "df=pd.concat([df1,df2],axis=0)\n",
    "df"
   ]
  },
  {
   "cell_type": "code",
   "execution_count": 5,
   "id": "999da9b2",
   "metadata": {},
   "outputs": [
    {
     "data": {
      "text/plain": [
       "(1082, 3)"
      ]
     },
     "execution_count": 5,
     "metadata": {},
     "output_type": "execute_result"
    }
   ],
   "source": [
    "df.shape"
   ]
  },
  {
   "cell_type": "code",
   "execution_count": 6,
   "id": "5ffc5c65",
   "metadata": {},
   "outputs": [
    {
     "data": {
      "text/plain": [
       "Index(['S. No.', 'Message_body', 'Label'], dtype='object')"
      ]
     },
     "execution_count": 6,
     "metadata": {},
     "output_type": "execute_result"
    }
   ],
   "source": [
    "df.columns"
   ]
  },
  {
   "cell_type": "code",
   "execution_count": 7,
   "id": "81fae8c8",
   "metadata": {},
   "outputs": [
    {
     "data": {
      "text/html": [
       "<div>\n",
       "<style scoped>\n",
       "    .dataframe tbody tr th:only-of-type {\n",
       "        vertical-align: middle;\n",
       "    }\n",
       "\n",
       "    .dataframe tbody tr th {\n",
       "        vertical-align: top;\n",
       "    }\n",
       "\n",
       "    .dataframe thead th {\n",
       "        text-align: right;\n",
       "    }\n",
       "</style>\n",
       "<table border=\"1\" class=\"dataframe\">\n",
       "  <thead>\n",
       "    <tr style=\"text-align: right;\">\n",
       "      <th></th>\n",
       "      <th>S. No.</th>\n",
       "      <th>Message_body</th>\n",
       "      <th>Label</th>\n",
       "    </tr>\n",
       "  </thead>\n",
       "  <tbody>\n",
       "    <tr>\n",
       "      <th>0</th>\n",
       "      <td>1</td>\n",
       "      <td>Rofl. Its true to its name</td>\n",
       "      <td>Non-Spam</td>\n",
       "    </tr>\n",
       "    <tr>\n",
       "      <th>1</th>\n",
       "      <td>2</td>\n",
       "      <td>The guy did some bitching but I acted like i'd...</td>\n",
       "      <td>Non-Spam</td>\n",
       "    </tr>\n",
       "    <tr>\n",
       "      <th>2</th>\n",
       "      <td>3</td>\n",
       "      <td>Pity, * was in mood for that. So...any other s...</td>\n",
       "      <td>Non-Spam</td>\n",
       "    </tr>\n",
       "    <tr>\n",
       "      <th>3</th>\n",
       "      <td>4</td>\n",
       "      <td>Will ü b going to esplanade fr home?</td>\n",
       "      <td>Non-Spam</td>\n",
       "    </tr>\n",
       "    <tr>\n",
       "      <th>4</th>\n",
       "      <td>5</td>\n",
       "      <td>This is the 2nd time we have tried 2 contact u...</td>\n",
       "      <td>Spam</td>\n",
       "    </tr>\n",
       "  </tbody>\n",
       "</table>\n",
       "</div>"
      ],
      "text/plain": [
       "   S. No.                                       Message_body     Label\n",
       "0       1                         Rofl. Its true to its name  Non-Spam\n",
       "1       2  The guy did some bitching but I acted like i'd...  Non-Spam\n",
       "2       3  Pity, * was in mood for that. So...any other s...  Non-Spam\n",
       "3       4               Will ü b going to esplanade fr home?  Non-Spam\n",
       "4       5  This is the 2nd time we have tried 2 contact u...      Spam"
      ]
     },
     "execution_count": 7,
     "metadata": {},
     "output_type": "execute_result"
    }
   ],
   "source": [
    "df.head()"
   ]
  },
  {
   "cell_type": "code",
   "execution_count": 8,
   "id": "16b6ac39",
   "metadata": {},
   "outputs": [
    {
     "data": {
      "text/html": [
       "<div>\n",
       "<style scoped>\n",
       "    .dataframe tbody tr th:only-of-type {\n",
       "        vertical-align: middle;\n",
       "    }\n",
       "\n",
       "    .dataframe tbody tr th {\n",
       "        vertical-align: top;\n",
       "    }\n",
       "\n",
       "    .dataframe thead th {\n",
       "        text-align: right;\n",
       "    }\n",
       "</style>\n",
       "<table border=\"1\" class=\"dataframe\">\n",
       "  <thead>\n",
       "    <tr style=\"text-align: right;\">\n",
       "      <th></th>\n",
       "      <th>S. No.</th>\n",
       "      <th>Message_body</th>\n",
       "      <th>Label</th>\n",
       "    </tr>\n",
       "  </thead>\n",
       "  <tbody>\n",
       "    <tr>\n",
       "      <th>120</th>\n",
       "      <td>121</td>\n",
       "      <td>7 wonders in My WORLD 7th You 6th Ur style 5th...</td>\n",
       "      <td>Non-Spam</td>\n",
       "    </tr>\n",
       "    <tr>\n",
       "      <th>121</th>\n",
       "      <td>122</td>\n",
       "      <td>Try to do something dear. You read something f...</td>\n",
       "      <td>Non-Spam</td>\n",
       "    </tr>\n",
       "    <tr>\n",
       "      <th>122</th>\n",
       "      <td>123</td>\n",
       "      <td>Sun ah... Thk mayb can if dun have anythin on....</td>\n",
       "      <td>Non-Spam</td>\n",
       "    </tr>\n",
       "    <tr>\n",
       "      <th>123</th>\n",
       "      <td>124</td>\n",
       "      <td>SYMPTOMS when U are in love: \"1.U like listeni...</td>\n",
       "      <td>Non-Spam</td>\n",
       "    </tr>\n",
       "    <tr>\n",
       "      <th>124</th>\n",
       "      <td>125</td>\n",
       "      <td>Great. Have a safe trip. Dont panic surrender ...</td>\n",
       "      <td>Non-Spam</td>\n",
       "    </tr>\n",
       "  </tbody>\n",
       "</table>\n",
       "</div>"
      ],
      "text/plain": [
       "     S. No.                                       Message_body     Label\n",
       "120     121  7 wonders in My WORLD 7th You 6th Ur style 5th...  Non-Spam\n",
       "121     122  Try to do something dear. You read something f...  Non-Spam\n",
       "122     123  Sun ah... Thk mayb can if dun have anythin on....  Non-Spam\n",
       "123     124  SYMPTOMS when U are in love: \"1.U like listeni...  Non-Spam\n",
       "124     125  Great. Have a safe trip. Dont panic surrender ...  Non-Spam"
      ]
     },
     "execution_count": 8,
     "metadata": {},
     "output_type": "execute_result"
    }
   ],
   "source": [
    "df.tail()"
   ]
  },
  {
   "cell_type": "code",
   "execution_count": 9,
   "id": "acfa2eee",
   "metadata": {},
   "outputs": [
    {
     "data": {
      "text/plain": [
       "S. No.           int64\n",
       "Message_body    object\n",
       "Label           object\n",
       "dtype: object"
      ]
     },
     "execution_count": 9,
     "metadata": {},
     "output_type": "execute_result"
    }
   ],
   "source": [
    "df.dtypes"
   ]
  },
  {
   "cell_type": "code",
   "execution_count": 10,
   "id": "82c2be69",
   "metadata": {},
   "outputs": [
    {
     "data": {
      "text/plain": [
       "S. No.          0\n",
       "Message_body    0\n",
       "Label           0\n",
       "dtype: int64"
      ]
     },
     "execution_count": 10,
     "metadata": {},
     "output_type": "execute_result"
    }
   ],
   "source": [
    "df.isna().sum()"
   ]
  },
  {
   "cell_type": "code",
   "execution_count": 11,
   "id": "f1661fbf",
   "metadata": {},
   "outputs": [
    {
     "data": {
      "text/plain": [
       "Label\n",
       "Non-Spam    884\n",
       "Spam        198\n",
       "Name: count, dtype: int64"
      ]
     },
     "execution_count": 11,
     "metadata": {},
     "output_type": "execute_result"
    }
   ],
   "source": [
    "df['Label'].value_counts()"
   ]
  },
  {
   "cell_type": "code",
   "execution_count": 12,
   "id": "724fc8a4",
   "metadata": {},
   "outputs": [
    {
     "data": {
      "text/plain": [
       "<Axes: xlabel='Label', ylabel='count'>"
      ]
     },
     "execution_count": 12,
     "metadata": {},
     "output_type": "execute_result"
    },
    {
     "data": {
      "image/png": "[encoded data removed]",
      "text/plain": [
       "<Figure size 640x480 with 1 Axes>"
      ]
     },
     "metadata": {},
     "output_type": "display_data"
    }
   ],
   "source": [
    "sns.countplot(x=df['Label'])"
   ]
  },
  {
   "cell_type": "code",
   "execution_count": 13,
   "id": "aaafdcbb",
   "metadata": {},
   "outputs": [
    {
     "data": {
      "text/html": [
       "<div>\n",
       "<style scoped>\n",
       "    .dataframe tbody tr th:only-of-type {\n",
       "        vertical-align: middle;\n",
       "    }\n",
       "\n",
       "    .dataframe tbody tr th {\n",
       "        vertical-align: top;\n",
       "    }\n",
       "\n",
       "    .dataframe thead th {\n",
       "        text-align: right;\n",
       "    }\n",
       "</style>\n",
       "<table border=\"1\" class=\"dataframe\">\n",
       "  <thead>\n",
       "    <tr style=\"text-align: right;\">\n",
       "      <th></th>\n",
       "      <th>Message_body</th>\n",
       "      <th>Label</th>\n",
       "    </tr>\n",
       "  </thead>\n",
       "  <tbody>\n",
       "    <tr>\n",
       "      <th>0</th>\n",
       "      <td>Rofl. Its true to its name</td>\n",
       "      <td>Non-Spam</td>\n",
       "    </tr>\n",
       "    <tr>\n",
       "      <th>1</th>\n",
       "      <td>The guy did some bitching but I acted like i'd...</td>\n",
       "      <td>Non-Spam</td>\n",
       "    </tr>\n",
       "    <tr>\n",
       "      <th>2</th>\n",
       "      <td>Pity, * was in mood for that. So...any other s...</td>\n",
       "      <td>Non-Spam</td>\n",
       "    </tr>\n",
       "    <tr>\n",
       "      <th>3</th>\n",
       "      <td>Will ü b going to esplanade fr home?</td>\n",
       "      <td>Non-Spam</td>\n",
       "    </tr>\n",
       "    <tr>\n",
       "      <th>4</th>\n",
       "      <td>This is the 2nd time we have tried 2 contact u...</td>\n",
       "      <td>Spam</td>\n",
       "    </tr>\n",
       "    <tr>\n",
       "      <th>...</th>\n",
       "      <td>...</td>\n",
       "      <td>...</td>\n",
       "    </tr>\n",
       "    <tr>\n",
       "      <th>120</th>\n",
       "      <td>7 wonders in My WORLD 7th You 6th Ur style 5th...</td>\n",
       "      <td>Non-Spam</td>\n",
       "    </tr>\n",
       "    <tr>\n",
       "      <th>121</th>\n",
       "      <td>Try to do something dear. You read something f...</td>\n",
       "      <td>Non-Spam</td>\n",
       "    </tr>\n",
       "    <tr>\n",
       "      <th>122</th>\n",
       "      <td>Sun ah... Thk mayb can if dun have anythin on....</td>\n",
       "      <td>Non-Spam</td>\n",
       "    </tr>\n",
       "    <tr>\n",
       "      <th>123</th>\n",
       "      <td>SYMPTOMS when U are in love: \"1.U like listeni...</td>\n",
       "      <td>Non-Spam</td>\n",
       "    </tr>\n",
       "    <tr>\n",
       "      <th>124</th>\n",
       "      <td>Great. Have a safe trip. Dont panic surrender ...</td>\n",
       "      <td>Non-Spam</td>\n",
       "    </tr>\n",
       "  </tbody>\n",
       "</table>\n",
       "<p>1082 rows × 2 columns</p>\n",
       "</div>"
      ],
      "text/plain": [
       "                                          Message_body     Label\n",
       "0                           Rofl. Its true to its name  Non-Spam\n",
       "1    The guy did some bitching but I acted like i'd...  Non-Spam\n",
       "2    Pity, * was in mood for that. So...any other s...  Non-Spam\n",
       "3                 Will ü b going to esplanade fr home?  Non-Spam\n",
       "4    This is the 2nd time we have tried 2 contact u...      Spam\n",
       "..                                                 ...       ...\n",
       "120  7 wonders in My WORLD 7th You 6th Ur style 5th...  Non-Spam\n",
       "121  Try to do something dear. You read something f...  Non-Spam\n",
       "122  Sun ah... Thk mayb can if dun have anythin on....  Non-Spam\n",
       "123  SYMPTOMS when U are in love: \"1.U like listeni...  Non-Spam\n",
       "124  Great. Have a safe trip. Dont panic surrender ...  Non-Spam\n",
       "\n",
       "[1082 rows x 2 columns]"
      ]
     },
     "execution_count": 13,
     "metadata": {},
     "output_type": "execute_result"
    }
   ],
   "source": [
    "df.drop(['S. No.'],axis=1,inplace=True)\n",
    "df"
   ]
  },
  {
   "cell_type": "code",
   "execution_count": 14,
   "id": "1051384a",
   "metadata": {},
   "outputs": [
    {
     "data": {
      "text/html": [
       "<div>\n",
       "<style scoped>\n",
       "    .dataframe tbody tr th:only-of-type {\n",
       "        vertical-align: middle;\n",
       "    }\n",
       "\n",
       "    .dataframe tbody tr th {\n",
       "        vertical-align: top;\n",
       "    }\n",
       "\n",
       "    .dataframe thead th {\n",
       "        text-align: right;\n",
       "    }\n",
       "</style>\n",
       "<table border=\"1\" class=\"dataframe\">\n",
       "  <thead>\n",
       "    <tr style=\"text-align: right;\">\n",
       "      <th></th>\n",
       "      <th>Message_body</th>\n",
       "      <th>Label</th>\n",
       "    </tr>\n",
       "  </thead>\n",
       "  <tbody>\n",
       "    <tr>\n",
       "      <th>0</th>\n",
       "      <td>Rofl. Its true to its name</td>\n",
       "      <td>0</td>\n",
       "    </tr>\n",
       "    <tr>\n",
       "      <th>1</th>\n",
       "      <td>The guy did some bitching but I acted like i'd...</td>\n",
       "      <td>0</td>\n",
       "    </tr>\n",
       "    <tr>\n",
       "      <th>2</th>\n",
       "      <td>Pity, * was in mood for that. So...any other s...</td>\n",
       "      <td>0</td>\n",
       "    </tr>\n",
       "    <tr>\n",
       "      <th>3</th>\n",
       "      <td>Will ü b going to esplanade fr home?</td>\n",
       "      <td>0</td>\n",
       "    </tr>\n",
       "    <tr>\n",
       "      <th>4</th>\n",
       "      <td>This is the 2nd time we have tried 2 contact u...</td>\n",
       "      <td>1</td>\n",
       "    </tr>\n",
       "    <tr>\n",
       "      <th>...</th>\n",
       "      <td>...</td>\n",
       "      <td>...</td>\n",
       "    </tr>\n",
       "    <tr>\n",
       "      <th>120</th>\n",
       "      <td>7 wonders in My WORLD 7th You 6th Ur style 5th...</td>\n",
       "      <td>0</td>\n",
       "    </tr>\n",
       "    <tr>\n",
       "      <th>121</th>\n",
       "      <td>Try to do something dear. You read something f...</td>\n",
       "      <td>0</td>\n",
       "    </tr>\n",
       "    <tr>\n",
       "      <th>122</th>\n",
       "      <td>Sun ah... Thk mayb can if dun have anythin on....</td>\n",
       "      <td>0</td>\n",
       "    </tr>\n",
       "    <tr>\n",
       "      <th>123</th>\n",
       "      <td>SYMPTOMS when U are in love: \"1.U like listeni...</td>\n",
       "      <td>0</td>\n",
       "    </tr>\n",
       "    <tr>\n",
       "      <th>124</th>\n",
       "      <td>Great. Have a safe trip. Dont panic surrender ...</td>\n",
       "      <td>0</td>\n",
       "    </tr>\n",
       "  </tbody>\n",
       "</table>\n",
       "<p>1082 rows × 2 columns</p>\n",
       "</div>"
      ],
      "text/plain": [
       "                                          Message_body  Label\n",
       "0                           Rofl. Its true to its name      0\n",
       "1    The guy did some bitching but I acted like i'd...      0\n",
       "2    Pity, * was in mood for that. So...any other s...      0\n",
       "3                 Will ü b going to esplanade fr home?      0\n",
       "4    This is the 2nd time we have tried 2 contact u...      1\n",
       "..                                                 ...    ...\n",
       "120  7 wonders in My WORLD 7th You 6th Ur style 5th...      0\n",
       "121  Try to do something dear. You read something f...      0\n",
       "122  Sun ah... Thk mayb can if dun have anythin on....      0\n",
       "123  SYMPTOMS when U are in love: \"1.U like listeni...      0\n",
       "124  Great. Have a safe trip. Dont panic surrender ...      0\n",
       "\n",
       "[1082 rows x 2 columns]"
      ]
     },
     "execution_count": 14,
     "metadata": {},
     "output_type": "execute_result"
    }
   ],
   "source": [
    "#replacing label\n",
    "df['Label']=df['Label'].map({'Spam':1,'Non-Spam':0})\n",
    "df"
   ]
  },
  {
   "cell_type": "code",
   "execution_count": 15,
   "id": "9e26c39b",
   "metadata": {},
   "outputs": [
    {
     "data": {
      "text/plain": [
       "0                             Rofl. Its true to its name\n",
       "1      The guy did some bitching but I acted like i'd...\n",
       "2      Pity, * was in mood for that. So...any other s...\n",
       "3                   Will ü b going to esplanade fr home?\n",
       "4      This is the 2nd time we have tried 2 contact u...\n",
       "                             ...                        \n",
       "120    7 wonders in My WORLD 7th You 6th Ur style 5th...\n",
       "121    Try to do something dear. You read something f...\n",
       "122    Sun ah... Thk mayb can if dun have anythin on....\n",
       "123    SYMPTOMS when U are in love: \"1.U like listeni...\n",
       "124    Great. Have a safe trip. Dont panic surrender ...\n",
       "Name: Message_body, Length: 1082, dtype: object"
      ]
     },
     "execution_count": 15,
     "metadata": {},
     "output_type": "execute_result"
    }
   ],
   "source": [
    "message=df.Message_body\n",
    "message"
   ]
  },
  {
   "cell_type": "code",
   "execution_count": 16,
   "id": "fcdea774",
   "metadata": {},
   "outputs": [
    {
     "data": {
      "text/plain": [
       "0                             Rofl. Its true to its name\n",
       "1      The guy did some bitching but I acted like i'd...\n",
       "2      Pity, * was in mood for that. So...any other s...\n",
       "3                   Will ü b going to esplanade fr home?\n",
       "4      This is the 2nd time we have tried 2 contact u...\n",
       "                             ...                        \n",
       "120    7 wonders in My WORLD 7th You 6th Ur style 5th...\n",
       "121    Try to do something dear. You read something f...\n",
       "122    Sun ah... Thk mayb can if dun have anythin on....\n",
       "123    SYMPTOMS when U are in love: \"1.U like listeni...\n",
       "124    Great. Have a safe trip. Dont panic surrender ...\n",
       "Name: Message_body, Length: 1082, dtype: object"
      ]
     },
     "execution_count": 16,
     "metadata": {},
     "output_type": "execute_result"
    }
   ],
   "source": [
    "#white space\n",
    "message = message.str.replace(r'\\s+', ' ', regex=True).str.strip()\n",
    "message"
   ]
  },
  {
   "cell_type": "code",
   "execution_count": 17,
   "id": "eefcb236",
   "metadata": {},
   "outputs": [
    {
     "data": {
      "text/plain": [
       "0                            Rofl . Its true to its name\n",
       "1      The guy did some bitching but I acted like i'd...\n",
       "2      Pity , * was in mood for that . So ... any oth...\n",
       "3                  Will ü b going to esplanade fr home ?\n",
       "4      This is the 2nd time we have tried 2 contact u...\n",
       "                             ...                        \n",
       "120    7 wonders in My WORLD 7th You 6th Ur style 5th...\n",
       "121    Try to do something dear . You read something ...\n",
       "122    Sun ah ... Thk mayb can if dun have anythin on...\n",
       "123    SYMPTOMS when U are in love : \" 1 . U like lis...\n",
       "124    Great . Have a safe trip . Dont panic surrende...\n",
       "Name: Message_body, Length: 1082, dtype: object"
      ]
     },
     "execution_count": 17,
     "metadata": {},
     "output_type": "execute_result"
    }
   ],
   "source": [
    "#tokenisation \n",
    "from nltk.tokenize import TweetTokenizer\n",
    "tk=TweetTokenizer()\n",
    "message=message.apply(lambda x:tk.tokenize(x)).apply(lambda x:' '.join(x))\n",
    "message\n"
   ]
  },
  {
   "cell_type": "code",
   "execution_count": 18,
   "id": "e7e06eb8",
   "metadata": {},
   "outputs": [
    {
     "data": {
      "text/plain": [
       "0                            Rofl   Its true to its name\n",
       "1      The guy did some bitching but I acted like i d...\n",
       "2      Pity     was in mood for that   So     any oth...\n",
       "3                  Will   b going to esplanade fr home  \n",
       "4      This is the 2nd time we have tried 2 contact u...\n",
       "                             ...                        \n",
       "120    7 wonders in My WORLD 7th You 6th Ur style 5th...\n",
       "121    Try to do something dear   You read something ...\n",
       "122    Sun ah     Thk mayb can if dun have anythin on...\n",
       "123    SYMPTOMS when U are in love     1   U like lis...\n",
       "124    Great   Have a safe trip   Dont panic surrende...\n",
       "Name: Message_body, Length: 1082, dtype: object"
      ]
     },
     "execution_count": 18,
     "metadata": {},
     "output_type": "execute_result"
    }
   ],
   "source": [
    "#removing special characters\n",
    "message=message.str.replace('[^A-Za-z0-9]',' ',regex=True)\n",
    "message"
   ]
  },
  {
   "cell_type": "code",
   "execution_count": 19,
   "id": "a2c48438",
   "metadata": {},
   "outputs": [
    {
     "data": {
      "text/plain": [
       "0                                rofl it true to it name\n",
       "1      the guy did some bitch but i act like i d be i...\n",
       "2         piti was in mood for that so ani other suggest\n",
       "3                          will b go to esplanad fr home\n",
       "4      this is the 2nd time we have tri 2 contact u u...\n",
       "                             ...                        \n",
       "120    7 wonder in my world 7th you 6th ur style 5th ...\n",
       "121       tri to do someth dear you read someth for exam\n",
       "122    sun ah thk mayb can if dun have anythin on thk...\n",
       "123    symptom when u are in love 1 u like listen son...\n",
       "124        great have a safe trip dont panic surrend all\n",
       "Name: Message_body, Length: 1082, dtype: object"
      ]
     },
     "execution_count": 19,
     "metadata": {},
     "output_type": "execute_result"
    }
   ],
   "source": [
    "#stemming\n",
    "from nltk.stem import SnowballStemmer\n",
    "st=SnowballStemmer('english')\n",
    "message=message.apply(lambda x:[st.stem(i.lower()) for i in tk.tokenize(x)]).apply(lambda x:' '.join(x))\n",
    "message\n",
    "\n"
   ]
  },
  {
   "cell_type": "code",
   "execution_count": 20,
   "id": "c9c8b200",
   "metadata": {},
   "outputs": [
    {
     "data": {
      "text/plain": [
       "0                                         rofl true name\n",
       "1      guy bitch act like interest buy someth els nex...\n",
       "2                                  piti mood ani suggest\n",
       "3                                  b go esplanad fr home\n",
       "4      2nd time tri 2 contact u u 750 pound prize 2 c...\n",
       "                             ...                        \n",
       "120    7 wonder world 7th 6th ur style 5th ur smile 4...\n",
       "121                     tri someth dear read someth exam\n",
       "122    sun ah thk mayb dun anythin thk book e lesson ...\n",
       "123    symptom u love 1 u like listen song 2 u get st...\n",
       "124                   great safe trip dont panic surrend\n",
       "Name: Message_body, Length: 1082, dtype: object"
      ]
     },
     "execution_count": 20,
     "metadata": {},
     "output_type": "execute_result"
    }
   ],
   "source": [
    "#stop words\n",
    "from nltk.corpus import stopwords\n",
    "sp=stopwords.words('english')\n",
    "message=message.apply(lambda x:[i for i in tk.tokenize(x) if i not in sp]).apply(lambda x:' '.join(x))\n",
    "message"
   ]
  },
  {
   "cell_type": "code",
   "execution_count": 21,
   "id": "0245d24c",
   "metadata": {},
   "outputs": [
    {
     "data": {
      "text/plain": [
       "<1082x2997 sparse matrix of type '<class 'numpy.float64'>'\n",
       "\twith 9599 stored elements in Compressed Sparse Row format>"
      ]
     },
     "execution_count": 21,
     "metadata": {},
     "output_type": "execute_result"
    }
   ],
   "source": [
    "#Vectorization\n",
    "from sklearn.feature_extraction.text import TfidfVectorizer\n",
    "vd=TfidfVectorizer()\n",
    "data=vd.fit_transform(message)\n",
    "data"
   ]
  },
  {
   "cell_type": "code",
   "execution_count": 22,
   "id": "068cf860",
   "metadata": {},
   "outputs": [],
   "source": [
    "y=df['Label'].values"
   ]
  },
  {
   "cell_type": "code",
   "execution_count": 23,
   "id": "c1b03de9",
   "metadata": {},
   "outputs": [],
   "source": [
    "#train test split \n",
    "from sklearn.model_selection import train_test_split\n",
    "x_train,x_test,y_train,y_test=train_test_split(data,y,test_size=0.30,random_state=42)"
   ]
  },
  {
   "cell_type": "code",
   "execution_count": 24,
   "id": "9943674e",
   "metadata": {},
   "outputs": [],
   "source": [
    "#model creation\n",
    "from sklearn.neighbors import KNeighborsClassifier\n",
    "from sklearn.naive_bayes import MultinomialNB\n",
    "from sklearn.svm import SVC\n",
    "from sklearn.tree import DecisionTreeClassifier\n",
    "from sklearn.ensemble import RandomForestClassifier\n",
    "from sklearn.metrics import classification_report\n",
    "knn=KNeighborsClassifier(n_neighbors=7)\n",
    "naive=MultinomialNB()\n",
    "sv=SVC()\n",
    "dt=DecisionTreeClassifier(criterion='entropy')\n",
    "rf=RandomForestClassifier(n_estimators=100)\n",
    "model=[knn,naive,sv,dt,rf]"
   ]
  },
  {
   "cell_type": "code",
   "execution_count": 25,
   "id": "dbdf1508",
   "metadata": {},
   "outputs": [
    {
     "name": "stdout",
     "output_type": "stream",
     "text": [
      "KNeighborsClassifier(n_neighbors=7) **********\n",
      "              precision    recall  f1-score   support\n",
      "\n",
      "           0       0.91      1.00      0.95       269\n",
      "           1       0.97      0.50      0.66        56\n",
      "\n",
      "    accuracy                           0.91       325\n",
      "   macro avg       0.94      0.75      0.80       325\n",
      "weighted avg       0.92      0.91      0.90       325\n",
      "\n",
      "MultinomialNB() **********\n",
      "              precision    recall  f1-score   support\n",
      "\n",
      "           0       0.93      1.00      0.96       269\n",
      "           1       1.00      0.64      0.78        56\n",
      "\n",
      "    accuracy                           0.94       325\n",
      "   macro avg       0.97      0.82      0.87       325\n",
      "weighted avg       0.94      0.94      0.93       325\n",
      "\n",
      "SVC() **********\n",
      "              precision    recall  f1-score   support\n",
      "\n",
      "           0       0.92      1.00      0.96       269\n",
      "           1       1.00      0.61      0.76        56\n",
      "\n",
      "    accuracy                           0.93       325\n",
      "   macro avg       0.96      0.80      0.86       325\n",
      "weighted avg       0.94      0.93      0.93       325\n",
      "\n",
      "DecisionTreeClassifier(criterion='entropy') **********\n",
      "              precision    recall  f1-score   support\n",
      "\n",
      "           0       0.97      0.94      0.95       269\n",
      "           1       0.74      0.88      0.80        56\n",
      "\n",
      "    accuracy                           0.93       325\n",
      "   macro avg       0.86      0.91      0.88       325\n",
      "weighted avg       0.93      0.93      0.93       325\n",
      "\n",
      "RandomForestClassifier() **********\n",
      "              precision    recall  f1-score   support\n",
      "\n",
      "           0       0.95      1.00      0.97       269\n",
      "           1       1.00      0.75      0.86        56\n",
      "\n",
      "    accuracy                           0.96       325\n",
      "   macro avg       0.98      0.88      0.92       325\n",
      "weighted avg       0.96      0.96      0.95       325\n",
      "\n"
     ]
    }
   ],
   "source": [
    "for i in model:\n",
    "    i.fit(x_train,y_train)\n",
    "    print(i,'*'*10)\n",
    "    y_pred=i.predict(x_test)\n",
    "    print(classification_report(y_test,y_pred))\n"
   ]
  }
 ],
 "metadata": {
  "kernelspec": {
   "display_name": "Python 3",
   "language": "python",
   "name": "python3"
  },
  "language_info": {
   "codemirror_mode": {
    "name": "ipython",
    "version": 3
   },
   "file_extension": ".py",
   "mimetype": "text/x-python",
   "name": "python",
   "nbconvert_exporter": "python",
   "pygments_lexer": "ipython3",
   "version": "3.8.10"
  }
 },
 "nbformat": 4,
 "nbformat_minor": 5
}
